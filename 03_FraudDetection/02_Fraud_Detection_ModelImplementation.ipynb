{
 "cells": [
  {
   "cell_type": "markdown",
   "id": "ee440906",
   "metadata": {},
   "source": [
    "# Fraud Dection in Online Transactions\n",
    "\n",
    "This is the Kaggle project in IEEE Computational Intelligence Society (IEEE-CIS) Fraud Dection: \n",
    "\n",
    "Addison Howard, Bernadette Bouchon-Meunier, IEEE CIS, inversion, John Lei, Lynn@Vesta, Marcus2010, Prof. Hussein Abbass. (2019). IEEE-CIS Fraud Detection. Kaggle. https://kaggle.com/competitions/ieee-fraud-detection\n",
    "\n",
    "# Methodology \n",
    "I will use following **Machine Learning Models** to conduct this project \n",
    "1. **Logistic Regression**: This is a basic model that can be used as a starting point. It's simple and interpretable.\n",
    "\n",
    "2. **Decision Trees and Random Forests**: These models can capture complex patterns in the data. Random Forests, being an ensemble of decision trees, can provide a more robust solution against overfitting.\n",
    "\n",
    "3. **Neural Networks**: Deep learning models, especially autoencoders, can be used for anomaly detection. An autoencoder tries to reconstruct its input data, and a high reconstruction error can indicate a fraudulent transaction.\n",
    "\n",
    "4. **Support Vector Machines (SVM)**: SVMs can be effective, especially when the data is not linearly separable.\n",
    "\n",
    "5. **K-Nearest Neighbors (KNN)**: This is an instance-based learning algorithm that can be used for its simplicity and effectiveness.\n",
    "\n",
    "    K-means via RapidsML cuDF: https://www.kaggle.com/code/suraj520/k-means-via-rapidsml-cudf-know-fit-infer\n",
    "    \n",
    "\n",
    "The following **Techniques** will be involved:\n",
    "\n",
    "1. **Principal Component Analysis (PCA)**: Given that credit card registers are considered personal information and cannot be shared publicly, PCA can be used to mask the actual variables, changing not only their names but also their numeric values. This allows for dimensionality reduction and working with real data without revealing any personal information.\n",
    "2. **Handling Imbalanced Data**: Fraudulent transactions are typically much fewer than legitimate ones, leading to class imbalance. Techniques like oversampling, undersampling, and using the Synthetic Minority Over-sampling Technique (SMOTE) can help balance the classes.\n",
    "\n",
    "\n",
    "The data comes from Vesta's real-world e-commerce transactions and contains a wide range of features from device type to product features.\n",
    "\n",
    "\n",
    "# References\n",
    "\n",
    "[1] Data Science in Banking: Fraud Detection. https://www.datacamp.com/blog/data-science-in-banking\n",
    "\n",
    "[2] Modelling Credit Card Frauds. https://towardsdatascience.com/modelling-credit-card-fraud-detection-e3006dd212ab\n",
    "\n",
    "[3] 1st Place Solution. https://www.kaggle.com/c/ieee-fraud-detection/discussion/111284\n",
    "\n"
   ]
  },
  {
   "cell_type": "code",
   "execution_count": 1,
   "id": "35429f8a",
   "metadata": {},
   "outputs": [],
   "source": [
    "# Import the libraries\n",
    "import pandas as pd\n",
    "import numpy as np\n",
    "import matplotlib.pyplot as plt\n",
    "import gc # Garbage Collector interface\n",
    "import scipy as sp\n",
    "# from sklearn.model_selection import KFold\n",
    "from sklearn.model_selection import train_test_split\n",
    "# from sklearn.neighbors import KNeighborsClassifier\n",
    "from sklearn import preprocessing \n",
    "from sklearn.impute import SimpleImputer\n",
    "import seaborn as sns\n"
   ]
  },
  {
   "cell_type": "code",
   "execution_count": 2,
   "id": "f6df5776",
   "metadata": {},
   "outputs": [
    {
     "name": "stdout",
     "output_type": "stream",
     "text": [
      "<class 'pandas.core.frame.DataFrame'>\n",
      "RangeIndex: 590540 entries, 0 to 590539\n",
      "Columns: 394 entries, TransactionID to V339\n",
      "dtypes: float64(376), int64(4), object(14)\n",
      "memory usage: 1.7+ GB\n"
     ]
    }
   ],
   "source": [
    "Test_ID = pd.read_csv('./RawData/test_identity.csv')\n",
    "Test_Trans = pd.read_csv('./RawData/test_transaction.csv')\n",
    "Train_ID = pd.read_csv('./RawData/train_identity.csv')\n",
    "Train_Trans = pd.read_csv('./RawData/train_transaction.csv')\n",
    "Train_Trans.info()"
   ]
  },
  {
   "cell_type": "code",
   "execution_count": null,
   "id": "6291ff35",
   "metadata": {
    "scrolled": true
   },
   "outputs": [],
   "source": [
    "Train_df = Train_Trans.merge(Train_ID, on = 'TransactionID', how='left')\n",
    "Test_df = Test_Trans.merge(Test_ID, on = 'TransactionID', how='left')\n",
    "Test_df.head()\n"
   ]
  },
  {
   "cell_type": "code",
   "execution_count": null,
   "id": "07006987",
   "metadata": {},
   "outputs": [],
   "source": [
    "Test_df = Test_df.rename(columns={\"id-01\": \"id_01\", \"id-02\": \"id_02\", \"id-03\": \"id_03\", \n",
    "                            \"id-06\": \"id_06\", \"id-05\": \"id_05\", \"id-04\": \"id_04\", \n",
    "                            \"id-07\": \"id_07\", \"id-08\": \"id_08\", \"id-09\": \"id_09\", \n",
    "                            \"id-10\": \"id_10\", \"id-11\": \"id_11\", \"id-12\": \"id_12\", \n",
    "                            \"id-15\": \"id_15\", \"id-14\": \"id_14\", \"id-13\": \"id_13\", \n",
    "                            \"id-16\": \"id_16\", \"id-17\": \"id_17\", \"id-18\": \"id_18\", \n",
    "                            \"id-21\": \"id_21\", \"id-20\": \"id_20\", \"id-19\": \"id_19\", \n",
    "                            \"id-22\": \"id_22\", \"id-23\": \"id_23\", \"id-24\": \"id_24\", \n",
    "                            \"id-27\": \"id_27\", \"id-26\": \"id_26\", \"id-25\": \"id_25\", \n",
    "                            \"id-28\": \"id_28\", \"id-29\": \"id_29\", \"id-30\": \"id_30\", \n",
    "                            \"id-31\": \"id_31\", \"id-32\": \"id_32\", \"id-33\": \"id_33\", \n",
    "                            \"id-34\": \"id_34\", \"id-35\": \"id_35\", \"id-36\": \"id_36\", \n",
    "                            \"id-37\": \"id_37\", \"id-38\": \"id_38\"})\n",
    "Test_df.head()"
   ]
  },
  {
   "cell_type": "code",
   "execution_count": null,
   "id": "b69e5a4e",
   "metadata": {},
   "outputs": [],
   "source": [
    "new_features = ['TransactionAmt', 'ProductCD',\n",
    "                'card1', 'card2', 'card3', 'card5','card6', 'addr1', 'addr2', \n",
    "                'dist1', 'dist2', 'P_emaildomain''R_emaildomain', \n",
    "                'C1', 'C2', 'C4', 'C5', 'C6', 'C7', 'C8', 'C9','C10', 'C11', 'C12', 'C13', 'C14', \n",
    "                'D1', 'D2', 'D3', 'D4', 'D5','D10', 'D11', 'D15', \n",
    "                'M1', 'M2', 'M3', 'M4', 'M6', 'M7', 'M8','M9', \n",
    "                'V1', 'V3', 'V4', 'V6', 'V8', 'V11', 'V13', 'V14', 'V17','V20', 'V23', 'V26',\n",
    "                'V27', 'V30', 'V36', 'V37', 'V40', 'V41','V44', 'V47', 'V48', 'V54', 'V56', \n",
    "                'V59', 'V62', 'V65', 'V67','V68', 'V70', 'V76', 'V78', 'V80', 'V82', 'V86', \n",
    "                'V88', 'V89','V91', 'V107', 'V108', 'V111', 'V115', 'V117', 'V120', 'V121',\n",
    "                'V123', 'V124', 'V127', 'V129', 'V130', 'V136', 'V138', 'V139','V142', 'V147', \n",
    "                'V156', 'V160', 'V162', 'V165', 'V166', 'V169','V171', 'V173', 'V175', 'V176', \n",
    "                'V178', 'V180', 'V182', 'V185','V187', 'V188', 'V198', 'V203', 'V205', 'V207', \n",
    "                'V209', 'V210','V215', 'V218', 'V220', 'V221', 'V223', 'V224', 'V226', 'V228',\n",
    "                'V229', 'V234', 'V235', 'V238', 'V240', 'V250', 'V252', 'V253','V257', 'V258', \n",
    "                'V260', 'V261', 'V264', 'V266', 'V267', 'V271','V274', 'V277', 'V281', 'V283', \n",
    "                'V284', 'V285', 'V286', 'V289','V291', 'V294', 'V296', 'V297', 'V301', 'V303', \n",
    "                'V305', 'V307','V309', 'V310', 'V314', 'V320', \n",
    "                'id_01', 'id_02', 'id_03', 'id_04','id_05', 'id_06', 'id_09', 'id_10', \n",
    "                'id_11', 'id_12', 'id_13','id_15', 'id_16', 'id_17', 'id_18', 'id_19', \n",
    "                'id_20', 'id_28','id_29', 'id_31', 'id_35', 'id_36', 'id_37', 'id_38', \n",
    "                'DeviceType','DeviceInfo']\n",
    "len(new_features)"
   ]
  },
  {
   "cell_type": "code",
   "execution_count": null,
   "id": "4aa25b3c",
   "metadata": {},
   "outputs": [],
   "source": [
    "for features in Train_df.columns: \n",
    "    if features not in new_features: \n",
    "        Train_df = Train_df.drop(features, axis = 1)\n",
    "gc.collect() \n",
    "print(Train_df.shape)\n",
    "\n",
    "pd. set_option(\"display.max_columns\", None)\n",
    "pd. set_option(\"display.max_rows\", None)\n",
    "Train_df.head()\n",
    "# With no arguments, run a full collection. \n",
    "# The optional argument generation may be an integer specifying which generation \n",
    "# to collect (from 0 to 2). A ValueError is raised if the generation number is invalid. \n",
    "# The number of unreachable objects found is returned."
   ]
  },
  {
   "cell_type": "markdown",
   "id": "131e2d41",
   "metadata": {},
   "source": [
    "# Trainning process"
   ]
  },
  {
   "cell_type": "code",
   "execution_count": null,
   "id": "b2807a43",
   "metadata": {},
   "outputs": [],
   "source": [
    "numerical_features = [feature for feature in Train_df.columns if Train_df[feature].dtypes != 'O']\n",
    "print('Number of numerical variables: ', len(numerical_features))\n",
    "# visualise the numerical variables\n",
    "\n",
    "for feature in numerical_features: \n",
    "    ## Replace by using mean value\n",
    "    mean_value= Train_df[feature].mean()\n",
    "    ## create a new feature to capture nan values\n",
    "    Train_df[feature+'nan']=np.where(Train_df[feature].isnull(),1,0)\n",
    "    Train_df[feature].fillna(mean_value,inplace=True)\n",
    "df_num_train = Train_df[numerical_features]\n",
    "gc.collect()\n",
    "Train_df[numerical_features].head()\n",
    "gc.collect()"
   ]
  },
  {
   "cell_type": "code",
   "execution_count": null,
   "id": "744e5d70",
   "metadata": {},
   "outputs": [],
   "source": [
    "categorical_features = [feature for feature in Train_df.columns if Train_df[feature].dtypes == 'O']\n",
    "\n",
    "print('Number of categorical variables: ', len(categorical_features)) \n",
    "\n",
    "# visualise the numerical variables\n",
    "df_cat_train = Train_df[categorical_features]"
   ]
  },
  {
   "cell_type": "code",
   "execution_count": null,
   "id": "fb677028",
   "metadata": {},
   "outputs": [],
   "source": []
  }
 ],
 "metadata": {
  "kernelspec": {
   "display_name": "Python 3 (ipykernel)",
   "language": "python",
   "name": "python3"
  },
  "language_info": {
   "codemirror_mode": {
    "name": "ipython",
    "version": 3
   },
   "file_extension": ".py",
   "mimetype": "text/x-python",
   "name": "python",
   "nbconvert_exporter": "python",
   "pygments_lexer": "ipython3",
   "version": "3.11.4"
  }
 },
 "nbformat": 4,
 "nbformat_minor": 5
}
